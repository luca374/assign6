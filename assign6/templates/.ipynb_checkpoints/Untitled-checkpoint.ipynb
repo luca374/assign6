{
 "cells": [
  {
   "cell_type": "code",
   "execution_count": null,
   "metadata": {},
   "outputs": [],
   "source": [
    "<!DOCTYPE html>\n",
    "<html lang=\"en\">\n",
    "<head>\n",
    "    <meta charset=\"UTF-8\">\n",
    "    <meta http-equiv=\"X-UA-Compatible\" content=\"IE=edge\">\n",
    "    <meta name=\"viewport\" content=\"width=device-width, initial-scale=1.0\">\n",
    "    <title>Document</title>\n",
    "</head>\n",
    "<body>\n",
    "    <h1>Register here :)</h1>\n",
    "    <form method=\"POST\" action=\"\">\n",
    "        {{form.hidden_tag()}}\n",
    "        {{form.email}}\n",
    "        {{form.username}}\n",
    "        {{form.password}}\n",
    "        {{form.submit}}\n",
    "    </form>\n",
    "    <a href=\"{{url_for('login')}}\">Have an account? Login here!</a>\n",
    "</body>\n",
    "</html>"
   ]
  }
 ],
 "metadata": {
  "kernelspec": {
   "display_name": "Python 3",
   "language": "python",
   "name": "python3"
  },
  "language_info": {
   "codemirror_mode": {
    "name": "ipython",
    "version": 3
   },
   "file_extension": ".py",
   "mimetype": "text/x-python",
   "name": "python",
   "nbconvert_exporter": "python",
   "pygments_lexer": "ipython3",
   "version": "3.8.5"
  }
 },
 "nbformat": 4,
 "nbformat_minor": 4
}
