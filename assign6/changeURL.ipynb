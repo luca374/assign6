{
 "cells": [
  {
   "cell_type": "code",
   "execution_count": null,
   "metadata": {},
   "outputs": [],
   "source": [
    "herf=\"{{url_for('static',filename='css/style.css')}}\"\n",
    "herf=\"{{url_for('static',filename='js/scripts.js')}}\"\n",
    "herf=\"{{url_for('static',filename='templates/404.html')}}\"\n",
    "herf=\"{{url_for('static',filename='templates/index.html')}}\"\n",
    "herf=\"{{url_for('static',filename='templates/about.html')}}\"\n",
    "herf=\"{{url_for('static',filename='templates/post.html')}}\"\n",
    "herf=\"{{url_for('static',filename='templates/contact.html')}}\"\n",
    "herf=\"{{url_for('static',filename='templates/base.html')}}\"\n",
    "herf=\"{{url_for('static',filename='templates/blogs.html')}}\"\n",
    "herf=\"{{url_for('static',filename='templates/dashboard.html')}}\"\n",
    "herf=\"{{url_for('static',filename='templates/messages.html')}}\"\n",
    "herf=\"{{url_for('static',filename='assets/favicon.ico')}}\"\n",
    "herf=\"{{url_for('static',filename='assets/img/about-bg.jpg')}}\"\n",
    "herf=\"{{url_for('static',filename='assets/img/contact-bg.jpg')}}\"\n",
    "herf=\"{{url_for('static',filename='assets/img/post-bg.jpg')}}\"\n",
    "herf=\"{{url_for('static',filename='assets/img/post-sample-image.jpg')}}\"\n",
    "herf=\"{{url_for('static',filename='assets/img/home-bg.jpg')}}\""
   ]
  }
 ],
 "metadata": {
  "kernelspec": {
   "display_name": "Python 3",
   "language": "python",
   "name": "python3"
  },
  "language_info": {
   "codemirror_mode": {
    "name": "ipython",
    "version": 3
   },
   "file_extension": ".py",
   "mimetype": "text/x-python",
   "name": "python",
   "nbconvert_exporter": "python",
   "pygments_lexer": "ipython3",
   "version": "3.8.5"
  }
 },
 "nbformat": 4,
 "nbformat_minor": 4
}
